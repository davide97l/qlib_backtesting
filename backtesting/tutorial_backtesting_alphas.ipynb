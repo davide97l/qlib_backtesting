{
 "cells": [
  {
   "cell_type": "markdown",
   "id": "5e62a54c",
   "metadata": {
    "toc": true
   },
   "source": [
    "<h1>Table of Contents<span class=\"tocSkip\"></span></h1>\n",
    "<div class=\"toc\"><ul class=\"toc-item\"></ul></div>"
   ]
  },
  {
   "cell_type": "code",
   "execution_count": null,
   "id": "d9d4a86f",
   "metadata": {},
   "outputs": [],
   "source": [
    "from qlib.contrib.model.gbdt import LGBModel\n",
    "from qlib.contrib.data.handler import Alpha158\n",
    "from qlib.utils import init_instance_by_config, flatten_dict\n",
    "from qlib.workflow import R\n",
    "from qlib.workflow.record_temp import SignalRecord, PortAnaRecord, SigAnaRecord\n",
    "import qlib\n",
    "import pandas as pd\n",
    "from qlib.contrib.strategy import TopkDropoutStrategy\n",
    "from qlib.contrib.evaluate import (\n",
    "    backtest_daily as normal_backtest,\n",
    "    risk_analysis,\n",
    ")\n",
    "from qlib.contrib.report import analysis_model, analysis_position\n",
    "from qlib.data.dataset.loader import QlibDataLoader\n",
    "from qlib.data.dataset.processor import ZScoreNorm, Fillna, CSZScoreNorm, DropnaLabel"
   ]
  },
  {
   "cell_type": "code",
   "execution_count": null,
   "id": "e45f0691",
   "metadata": {},
   "outputs": [],
   "source": [
    "# retrive the data\n",
    "# run this command only once\n",
    "#!python qlib-main/scripts/get_data.py qlib_data --target_dir ~/.qlib/qlib_data/cn_data --region cn"
   ]
  },
  {
   "cell_type": "code",
   "execution_count": null,
   "id": "a8cab87b",
   "metadata": {},
   "outputs": [],
   "source": [
    "qlib.init()  # must init before running all the other commands\n",
    "\n",
    "market = \"csi300\"  # or csi500\n",
    "benchmark = \"SH000300\"  # must be one of the codes included in the market\n",
    "train = [\"2013-01-01\", \"2015-01-29\"]\n",
    "valid = [\"2015-01-31\", \"2016-12-31\"]\n",
    "test = [\"2017-01-01\", \"2020-08-01\"]"
   ]
  },
  {
   "cell_type": "code",
   "execution_count": null,
   "id": "e902b5f4",
   "metadata": {},
   "outputs": [],
   "source": [
    "# all alphas operators: https://github.com/microsoft/qlib/blob/main/qlib/data/ops.py\n",
    "# all processors: https://github.com/microsoft/qlib/blob/main/qlib/data/dataset/processor.py\n",
    "\n",
    "data_handler_config = {\n",
    "    \"start_time\": train[0],\n",
    "    \"end_time\": test[1],\n",
    "    \"fit_start_time\": train[0],\n",
    "    \"fit_end_time\": train[1],\n",
    "    \"instruments\": market,\n",
    "    \"data_loader\": {\n",
    "        \"class\": QlibDataLoader,\n",
    "        \"kwargs\": {\n",
    "            \"config\": {\n",
    "                \"feature\": {\n",
    "                    (\"Resi($close, 15)/$close\", \"Std(Abs($close/Ref($close, 1)-1)*$volume, 5)/(Mean(Abs($close/Ref($close, 1)-1)*$volume, 5)+1e-12)\", \"Rsquare($close, 5)\", \"($high-$low)/$open\", \"Rsquare($close, 10)\", \"Corr($close, Log($volume+1), 5)\", \"Corr($close/Ref($close,1), Log($volume/Ref($volume, 1)+1), 5)\", \"Corr($close, Log($volume+1), 10)\", \"Rsquare($close, 20)\", \"Corr($close/Ref($close,1), Log($volume/Ref($volume, 1)+1), 60)\", \"Corr($close/Ref($close,1), Log($volume/Ref($volume, 1)+1), 10)\", \"Corr($close, Log($volume+1), 20)\", \"(Less($open, $close)-$low)/$open\"),\n",
    "                    (\"RESI5\", \"WVMA5\", \"RSQR5\", \"KLEN\", \"RSQR10\", \"CORR5\", \"CORD5\", \"CORR10\", \"RSQR20\", \"CORD60\", \"CORD10\", \"CORR20\", \"KLOW\"),\n",
    "                },\n",
    "                \"label\": {\n",
    "                    (\"Ref($close, -2)/Ref($close, -1) - 1\"),\n",
    "                    (\"LABEL0\"),\n",
    "                },\n",
    "            \"freq\": \"day\",\n",
    "            },\n",
    "        },\n",
    "    },\n",
    "    \"learn_processors\": {\n",
    "        \"class\": DropnaLabel,\n",
    "        \"class\": CSZScoreNorm,  # cross sectional standardization (z-score)\n",
    "        \"kwargs\": {\n",
    "            \"fields_group\": \"label\",\n",
    "        },\n",
    "    },\n",
    "}"
   ]
  },
  {
   "cell_type": "code",
   "execution_count": null,
   "id": "fb6cb3ed",
   "metadata": {},
   "outputs": [],
   "source": [
    "task = {\n",
    "    \"model\": {\n",
    "        \"class\": \"LGBModel\",\n",
    "        \"module_path\": \"qlib.contrib.model.gbdt\",\n",
    "        \"kwargs\": {\n",
    "            \"loss\": \"mse\",\n",
    "            \"colsample_bytree\": 0.8879,\n",
    "            \"learning_rate\": 0.0421,\n",
    "            \"subsample\": 0.8789,\n",
    "            \"lambda_l1\": 205.6999,\n",
    "            \"lambda_l2\": 580.9768,\n",
    "            \"max_depth\": 8,\n",
    "            \"num_leaves\": 210,\n",
    "            \"num_threads\": 20,\n",
    "        },\n",
    "    },\n",
    "    \"dataset\": {\n",
    "        \"class\": \"DatasetH\",\n",
    "        \"module_path\": \"qlib.data.dataset\",\n",
    "        \"kwargs\": {\n",
    "            \"handler\": {\n",
    "                \"class\": \"Alpha158\",\n",
    "                \"module_path\": \"qlib.contrib.data.handler\",\n",
    "                \"kwargs\": data_handler_config,\n",
    "            },\n",
    "            \"segments\": {\n",
    "                \"train\": tuple(train),\n",
    "                \"valid\": tuple(valid),\n",
    "                \"test\": tuple(test),\n",
    "            },\n",
    "        },\n",
    "    },\n",
    "}\n",
    "\n",
    "port_analysis_config = {\n",
    "    \"executor\": {\n",
    "        \"class\": \"SimulatorExecutor\",\n",
    "        \"module_path\": \"qlib.backtest.executor\",\n",
    "        \"kwargs\": {\n",
    "            \"time_per_step\": \"day\",\n",
    "            \"generate_portfolio_metrics\": True,\n",
    "        },\n",
    "    },\n",
    "    \"strategy\": {\n",
    "        \"class\": \"TopkDropoutStrategy\",\n",
    "        \"module_path\": \"qlib.contrib.strategy.signal_strategy\",\n",
    "        \"kwargs\": {\n",
    "            \"signal\": \"<PRED>\",\n",
    "            \"topk\": 50,\n",
    "            \"n_drop\": 5,\n",
    "        },\n",
    "    },\n",
    "    \"backtest\": {\n",
    "        \"start_time\": test[0],\n",
    "        \"end_time\": test[1],\n",
    "        \"account\": 100000000,\n",
    "        \"benchmark\": benchmark,\n",
    "        \"exchange_kwargs\": {\n",
    "            \"freq\": \"day\",\n",
    "            \"limit_threshold\": 0.095,\n",
    "            \"deal_price\": \"close\",\n",
    "            \"open_cost\": 0.0005,\n",
    "            \"close_cost\": 0.0015,\n",
    "            \"min_cost\": 5,\n",
    "        },\n",
    "    },\n",
    "}"
   ]
  },
  {
   "cell_type": "code",
   "execution_count": null,
   "id": "504ecfd4",
   "metadata": {},
   "outputs": [],
   "source": [
    "# model and dataset initiaiton\n",
    "model = init_instance_by_config(task[\"model\"])\n",
    "dataset = init_instance_by_config(task[\"dataset\"])"
   ]
  },
  {
   "cell_type": "code",
   "execution_count": null,
   "id": "53a8c127",
   "metadata": {},
   "outputs": [],
   "source": [
    "# quick look at the dataset\n",
    "train_sampler = dataset.prepare('train')\n",
    "train_sampler"
   ]
  },
  {
   "cell_type": "code",
   "execution_count": null,
   "id": "44f09d77",
   "metadata": {},
   "outputs": [],
   "source": [
    "# train and test the model\n",
    "with R.start(experiment_name=\"workflow\"):\n",
    "    model.fit(dataset)\n",
    "    R.save_objects(trained_model=model)\n",
    "\n",
    "    rec = R.get_recorder()\n",
    "    rid = rec.id # save the record id\n",
    "\n",
    "    # Inference and saving signal\n",
    "    sr = SignalRecord(model, dataset, rec)\n",
    "    sr.generate()"
   ]
  },
  {
   "cell_type": "code",
   "execution_count": null,
   "id": "de055f90",
   "metadata": {},
   "outputs": [],
   "source": [
    "# backtest and analysis\n",
    "with R.start(experiment_name='exp', recorder_id=rid, resume=True):\n",
    "\n",
    "    # signal-based analysis\n",
    "    rec = R.get_recorder()\n",
    "    sar = SigAnaRecord(rec)  # get IC, ICIR, Rank IC, Rank ICIR\n",
    "    sar.generate()\n",
    "    \n",
    "    #  portfolio-based analysis: backtest\n",
    "    par = PortAnaRecord(rec, port_analysis_config, \"day\")  # get mean, std, annualized_return, information_ratio, max_drawdown\n",
    "    par.generate()"
   ]
  },
  {
   "cell_type": "code",
   "execution_count": null,
   "id": "c68bd975",
   "metadata": {},
   "outputs": [],
   "source": [
    "# load recorder\n",
    "recorder = R.get_recorder(recorder_id=rid, experiment_name='exp')\n",
    "# load previous results\n",
    "pred_df = recorder.load_object(\"pred.pkl\")\n",
    "report_normal_df = recorder.load_object(\"portfolio_analysis/report_normal_1day.pkl\")\n",
    "positions = recorder.load_object(\"portfolio_analysis/positions_normal_1day.pkl\")\n",
    "analysis_df = recorder.load_object(\"portfolio_analysis/port_analysis_1day.pkl\")"
   ]
  },
  {
   "cell_type": "code",
   "execution_count": null,
   "id": "1e092e4b",
   "metadata": {},
   "outputs": [],
   "source": [
    "# https://qlib.readthedocs.io/en/latest/component/report.html#graphical-result\n",
    "analysis_position.report_graph(report_normal_df)"
   ]
  },
  {
   "cell_type": "code",
   "execution_count": null,
   "id": "a180fa2b",
   "metadata": {},
   "outputs": [],
   "source": [
    "# https://qlib.readthedocs.io/en/latest/component/report.html#graphical-result\n",
    "analysis_position.risk_analysis_graph(analysis_df, report_normal_df)"
   ]
  },
  {
   "cell_type": "code",
   "execution_count": null,
   "id": "391a0d3e",
   "metadata": {},
   "outputs": [],
   "source": [
    "label_df = dataset.prepare(\"test\", col_set=\"label\")\n",
    "label_df.columns = ['label']\n",
    "pred_label = pd.concat([label_df, pred_df], axis=1, sort=True).reindex(label_df.index)\n",
    "# https://qlib.readthedocs.io/en/latest/component/report.html#graphical-result\n",
    "analysis_position.score_ic_graph(pred_label)"
   ]
  },
  {
   "cell_type": "code",
   "execution_count": null,
   "id": "fcebebb9",
   "metadata": {},
   "outputs": [],
   "source": [
    "# https://qlib.readthedocs.io/en/latest/component/report.html#graphical-result\n",
    "analysis_model.model_performance_graph(pred_label)"
   ]
  }
 ],
 "metadata": {
  "kernelspec": {
   "display_name": "Python 3 (ipykernel)",
   "language": "python",
   "name": "python3"
  },
  "language_info": {
   "codemirror_mode": {
    "name": "ipython",
    "version": 3
   },
   "file_extension": ".py",
   "mimetype": "text/x-python",
   "name": "python",
   "nbconvert_exporter": "python",
   "pygments_lexer": "ipython3",
   "version": "3.8.13"
  },
  "toc": {
   "base_numbering": 1,
   "nav_menu": {},
   "number_sections": true,
   "sideBar": true,
   "skip_h1_title": false,
   "title_cell": "Table of Contents",
   "title_sidebar": "Contents",
   "toc_cell": true,
   "toc_position": {},
   "toc_section_display": true,
   "toc_window_display": true
  }
 },
 "nbformat": 4,
 "nbformat_minor": 5
}
