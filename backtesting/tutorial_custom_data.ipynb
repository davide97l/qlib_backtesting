{
 "cells": [
  {
   "cell_type": "markdown",
   "id": "5e62a54c",
   "metadata": {
    "toc": true
   },
   "source": [
    "<h1>Table of Contents<span class=\"tocSkip\"></span></h1>\n",
    "<div class=\"toc\"><ul class=\"toc-item\"></ul></div>"
   ]
  },
  {
   "cell_type": "markdown",
   "id": "3b5ddf21",
   "metadata": {},
   "source": [
    "Split stock `csv` file into one `csv` for each stock:\n",
    "1) `python scripts/process_csv/process_csv.py --csv_file ~/.qlib/qlib_data/stocks.csv --csv_dir ~/.qlib/csv_data`\n",
    "Dump data into Qlib format:\n",
    "2) `python scripts/dump_bin.py dump_all --csv_path  ~/.qlib/csv_data --qlib_dir ~/.qlib/qlib_data/test_data --include_fields open,close,high,low,volume`\n",
    "\n",
    "3) `cd examples/benchmarks/LightGBM/workflow_config_lightgbm_custom_data.yaml`\n",
    "4) `qrun workflow_config_lightgbm_custom_data.yaml`"
   ]
  },
  {
   "cell_type": "code",
   "execution_count": null,
   "id": "0c6787a6",
   "metadata": {},
   "outputs": [],
   "source": []
  }
 ],
 "metadata": {
  "kernelspec": {
   "display_name": "Python 3 (ipykernel)",
   "language": "python",
   "name": "python3"
  },
  "language_info": {
   "codemirror_mode": {
    "name": "ipython",
    "version": 3
   },
   "file_extension": ".py",
   "mimetype": "text/x-python",
   "name": "python",
   "nbconvert_exporter": "python",
   "pygments_lexer": "ipython3",
   "version": "3.8.13"
  },
  "toc": {
   "base_numbering": 1,
   "nav_menu": {},
   "number_sections": true,
   "sideBar": true,
   "skip_h1_title": false,
   "title_cell": "Table of Contents",
   "title_sidebar": "Contents",
   "toc_cell": true,
   "toc_position": {
    "height": "calc(100% - 180px)",
    "left": "10px",
    "top": "150px",
    "width": "370.594px"
   },
   "toc_section_display": true,
   "toc_window_display": true
  }
 },
 "nbformat": 4,
 "nbformat_minor": 5
}
